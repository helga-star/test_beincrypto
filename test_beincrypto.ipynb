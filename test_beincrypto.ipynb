{
 "cells": [
  {
   "cell_type": "markdown",
   "id": "375773ed",
   "metadata": {},
   "source": [
    "## Task1 "
   ]
  },
  {
   "cell_type": "markdown",
   "id": "7bcbd2d5",
   "metadata": {
    "scrolled": true
   },
   "source": [
    "Step 1: Prioritize Tags for Translation:\n",
    "Frequency-Based Selection: Prioritize tags based on their 'Count' column, i.e., tags that appear most frequently across articles should be translated first. This ensures that the most common tags are accurately translated.\n",
    "\n",
    "Step 2: Translation:\n",
    "Human Translation: Utilize human translators for high-priority tags, as they can ensure accuracy and context.\n",
    "Machine Translation: For the remaining tags, employ machine translation services like Google Cloud Translation API. This would be efficient for bulk translation.\n",
    "\n",
    "Step 3: Create Translated Dictionary in BigQuery:\n",
    "Table Structure: Enhance the dictionary table to have additional columns: English_Translation and Original_Language.\n",
    "Bulk Upload: Once translations are ready, use batch operations to upload the translated tags to BigQuery, ensuring efficient data transfer and minimal API costs.\n",
    "\n",
    "Step 4: Maintenance:\n",
    "Automate New Tags: Set up a system to identify and translate new tags as they are added to the dictionary. This ensures the translated dictionary remains up-to-date.\n",
    "2. SQL Query for Creating the Data Mart\n",
    "Let's assume the tables are named articles and dictionary. Here's the SQL to create the required data mart:"
   ]
  },
  {
   "cell_type": "code",
   "execution_count": null,
   "id": "101bd8f3",
   "metadata": {},
   "outputs": [],
   "source": [
    "'''WITH JoinedData AS (\n",
    "    SELECT\n",
    "        a.Article_id,\n",
    "        a.Article_name,\n",
    "        d.Tag_id,\n",
    "        d.English_Translation AS Tag_name\n",
    "    FROM\n",
    "        articles a, UNNEST(a.Tag_ids) AS t(Tag_id)\n",
    "    LEFT JOIN dictionary d ON t.Tag_id = d.Tag_id\n",
    ")\n",
    "\n",
    "SELECT \n",
    "    Article_id,\n",
    "    Article_name,\n",
    "    ARRAY_AGG(Tag_name) AS Tag_names\n",
    "FROM\n",
    "    JoinedData\n",
    "GROUP BY\n",
    "    Article_id,\n",
    "    Article_name;'''"
   ]
  },
  {
   "cell_type": "markdown",
   "id": "cd7fdee3",
   "metadata": {
    "scrolled": true
   },
   "source": [
    "Explanation:\n",
    "The SQL begins with a Common Table Expression (WITH clause) that joins the articles table with the dictionary table on Tag_id, while unnesting the Tag_ids array from the articles table.\n",
    "\n",
    "The main query then aggregates the results to group by Article_id and Article_name, and it uses ARRAY_AGG to collect all the associated tag names into an array for each article.\n",
    "\n",
    "With this approach and SQL, you will have a data mart in BigQuery that can be efficiently queried for analytics and reporting in Looker or other BI tools."
   ]
  },
  {
   "cell_type": "markdown",
   "id": "d92bd302",
   "metadata": {},
   "source": [
    "## Task 2"
   ]
  },
  {
   "cell_type": "markdown",
   "id": "db8ae1a5",
   "metadata": {},
   "source": [
    "When aiming to consolidate ad data from multiple platforms (Twitter, Meta, and LinkedIn) into a Looker dashboard, consider the following approach and dataflow schema optimized for cost and time efficiency:\n",
    "\n",
    "1. Data Sources and Extraction:\n",
    "Twitter Ads API: Use the Twitter Ads API to extract metrics like impressions, clicks, conversion rates, and spend.\n",
    "\n",
    "Meta Ads (formerly Facebook Ads) API: Use the Meta Ads API to pull similar metrics as Twitter.\n",
    "\n",
    "LinkedIn Marketing Solutions API: Use this to gather data from LinkedIn ad campaigns.\n",
    "\n",
    "2. Data Storage:\n",
    "Cloud Storage: Initially, store the extracted raw data into a cloud storage solution like Google Cloud Storage, AWS S3, or Azure Blob Storage. This acts as a staging area, ensuring that the raw data is always available if needed.\n",
    "\n",
    "BigQuery: Use a cloud-based database solution like BigQuery for data transformation and querying due to its seamless integration with Looker and cost-effective storage and querying capabilities.\n",
    "\n",
    "3. Data Transformation & ETL:\n",
    "ETL Tools: Use tools like Apache Airflow, dbt, or even Looker's native capabilities to perform ETL tasks. This involves:\n",
    "Extraction: Pull data from the respective APIs.\n",
    "Transformation: Standardize metric names, data types, and structures across all platforms. For instance, rename metrics so they're consistent across sources (e.g., \"views\" in one platform should match \"impressions\" in another if they mean the same thing). Handle any currency conversions, deduplication, or other data cleaning tasks.\n",
    "Loading: Load the transformed data into BigQuery.\n",
    "4. Data Analysis:\n",
    "BigQuery SQL: Use SQL to create aggregated tables/views that will be used to power the Looker dashboard. This reduces the complexity of LookML models and ensures efficient querying.\n",
    "5. Dashboard Creation in Looker:\n",
    "LookML Models: Create a LookML model based on the BigQuery views/tables.\n",
    "\n",
    "Visualization: Design the dashboard in Looker using tiles, charts, and other visualization elements to present data clearly and allow for easy comparison between platforms.\n",
    "\n",
    "6. Automation & Refresh:\n",
    "Schedule Data Refreshes: Automate data extraction using the ETL tools so the Looker dashboard remains up-to-date. Depending on business needs, you could refresh multiple times a day or daily.\n",
    "\n",
    "Alerts: Implement alerts for anomalies in ad performance or discrepancies in data.\n",
    "\n",
    "7. Cost Optimization:\n",
    "Query Optimization: Regularly optimize BigQuery queries to ensure they run efficiently, reducing costs.\n",
    "\n",
    "Data Retention: Implement data retention policies. Store detailed granular data only for a limited time and keep aggregated data for longer periods.\n",
    "\n",
    "8. Security & Compliance:\n",
    "Ensure that data storage and transmission are compliant with data protection regulations (e.g., GDPR, CCPA). Implement proper access controls in both BigQuery and Looker.\n",
    "Dataflow Schema:\n",
    "Twitter, Meta, LinkedIn (Data Sources)\n",
    "→ Extract using APIs\n",
    "→ Store in Cloud Storage (Staging Area).\n",
    "\n",
    "Cloud Storage\n",
    "→ ETL Processes (Transform & Clean Data)\n",
    "→ Load into BigQuery.\n",
    "\n",
    "BigQuery\n",
    "→ Query & Aggregate\n",
    "→ Use in Looker for visualization.\n",
    "\n",
    "By following this approach and schema, you ensure a smooth, cost-effective, and timely flow of data from the ad platforms to the Looker dashboard, allowing stakeholders to make informed decisions based on the latest data."
   ]
  },
  {
   "cell_type": "markdown",
   "id": "17e4a396",
   "metadata": {},
   "source": [
    "## Task 3"
   ]
  },
  {
   "cell_type": "code",
   "execution_count": 15,
   "id": "1e428d5f",
   "metadata": {},
   "outputs": [
    {
     "data": {
      "text/html": [
       "<div>\n",
       "<style scoped>\n",
       "    .dataframe tbody tr th:only-of-type {\n",
       "        vertical-align: middle;\n",
       "    }\n",
       "\n",
       "    .dataframe tbody tr th {\n",
       "        vertical-align: top;\n",
       "    }\n",
       "\n",
       "    .dataframe thead th {\n",
       "        text-align: right;\n",
       "    }\n",
       "</style>\n",
       "<table border=\"1\" class=\"dataframe\">\n",
       "  <thead>\n",
       "    <tr style=\"text-align: right;\">\n",
       "      <th></th>\n",
       "      <th>id</th>\n",
       "      <th>property_hs_analytics_source</th>\n",
       "      <th>property_hs_latest_source</th>\n",
       "      <th>property_hs_lead_status</th>\n",
       "      <th>property_lifecyclestage</th>\n",
       "      <th>property_source</th>\n",
       "      <th>property_total_revenue</th>\n",
       "      <th>property_hs_time_between_contact_creation_and_deal_close</th>\n",
       "      <th>property_hs_time_to_move_from_lead_to_customer</th>\n",
       "    </tr>\n",
       "  </thead>\n",
       "  <tbody>\n",
       "    <tr>\n",
       "      <th>0</th>\n",
       "      <td>1</td>\n",
       "      <td>OFFLINE</td>\n",
       "      <td>OFFLINE</td>\n",
       "      <td>Qualified</td>\n",
       "      <td>customer</td>\n",
       "      <td>NaN</td>\n",
       "      <td>900.0</td>\n",
       "      <td>1.684435e+10</td>\n",
       "      <td>2.138725e+09</td>\n",
       "    </tr>\n",
       "    <tr>\n",
       "      <th>1</th>\n",
       "      <td>2</td>\n",
       "      <td>OFFLINE</td>\n",
       "      <td>OFFLINE</td>\n",
       "      <td>Sales Captured Lead</td>\n",
       "      <td>opportunity</td>\n",
       "      <td>NaN</td>\n",
       "      <td>0.0</td>\n",
       "      <td>NaN</td>\n",
       "      <td>NaN</td>\n",
       "    </tr>\n",
       "    <tr>\n",
       "      <th>2</th>\n",
       "      <td>3</td>\n",
       "      <td>EMAIL_MARKETING</td>\n",
       "      <td>OFFLINE</td>\n",
       "      <td>Customer</td>\n",
       "      <td>customer</td>\n",
       "      <td>NaN</td>\n",
       "      <td>300.0</td>\n",
       "      <td>3.901640e+10</td>\n",
       "      <td>2.138718e+09</td>\n",
       "    </tr>\n",
       "    <tr>\n",
       "      <th>3</th>\n",
       "      <td>4</td>\n",
       "      <td>OFFLINE</td>\n",
       "      <td>OFFLINE</td>\n",
       "      <td>Retention</td>\n",
       "      <td>customer</td>\n",
       "      <td>NaN</td>\n",
       "      <td>225.0</td>\n",
       "      <td>5.711067e+10</td>\n",
       "      <td>2.138711e+09</td>\n",
       "    </tr>\n",
       "    <tr>\n",
       "      <th>4</th>\n",
       "      <td>5</td>\n",
       "      <td>OFFLINE</td>\n",
       "      <td>DIRECT_TRAFFIC</td>\n",
       "      <td>Customer</td>\n",
       "      <td>customer</td>\n",
       "      <td>NaN</td>\n",
       "      <td>720.0</td>\n",
       "      <td>5.683087e+10</td>\n",
       "      <td>2.138713e+09</td>\n",
       "    </tr>\n",
       "  </tbody>\n",
       "</table>\n",
       "</div>"
      ],
      "text/plain": [
       "   id property_hs_analytics_source property_hs_latest_source  \\\n",
       "0   1                      OFFLINE                   OFFLINE   \n",
       "1   2                      OFFLINE                   OFFLINE   \n",
       "2   3              EMAIL_MARKETING                   OFFLINE   \n",
       "3   4                      OFFLINE                   OFFLINE   \n",
       "4   5                      OFFLINE            DIRECT_TRAFFIC   \n",
       "\n",
       "  property_hs_lead_status property_lifecyclestage property_source  \\\n",
       "0               Qualified                customer             NaN   \n",
       "1     Sales Captured Lead             opportunity             NaN   \n",
       "2                Customer                customer             NaN   \n",
       "3               Retention                customer             NaN   \n",
       "4                Customer                customer             NaN   \n",
       "\n",
       "   property_total_revenue  \\\n",
       "0                   900.0   \n",
       "1                     0.0   \n",
       "2                   300.0   \n",
       "3                   225.0   \n",
       "4                   720.0   \n",
       "\n",
       "   property_hs_time_between_contact_creation_and_deal_close  \\\n",
       "0                                       1.684435e+10          \n",
       "1                                                NaN          \n",
       "2                                       3.901640e+10          \n",
       "3                                       5.711067e+10          \n",
       "4                                       5.683087e+10          \n",
       "\n",
       "   property_hs_time_to_move_from_lead_to_customer  \n",
       "0                                    2.138725e+09  \n",
       "1                                             NaN  \n",
       "2                                    2.138718e+09  \n",
       "3                                    2.138711e+09  \n",
       "4                                    2.138713e+09  "
      ]
     },
     "execution_count": 15,
     "metadata": {},
     "output_type": "execute_result"
    }
   ],
   "source": [
    "import pandas as pd\n",
    "import matplotlib.pyplot as plt\n",
    "# Load data from the Excel file\n",
    "sales_data = pd.read_excel(\"/Users/olgakoneva/Documents/test_task_beincrypto.xlsx\")\n",
    "sales_data.head()\n"
   ]
  },
  {
   "cell_type": "code",
   "execution_count": 9,
   "id": "7322f9ef",
   "metadata": {},
   "outputs": [
    {
     "data": {
      "image/png": "[encoded data removed]",
      "text/plain": [
       "<Figure size 1080x1296 with 3 Axes>"
      ]
     },
     "metadata": {
      "needs_background": "light"
     },
     "output_type": "display_data"
    }
   ],
   "source": [
    "# Set up the plotting space\n",
    "fig, ax = plt.subplots(3, 1, figsize=(15, 18))\n",
    "\n",
    "# Distribution of the initial source of the lead/sale\n",
    "sales_data['property_hs_analytics_source'].value_counts().plot(kind='bar', ax=ax[0], color='blue')\n",
    "ax[0].set_title('Distribution of Initial Sources')\n",
    "ax[0].set_ylabel('Count')\n",
    "ax[0].grid(axis='y')\n",
    "\n",
    "# Distribution of the latest source of the lead/sale\n",
    "sales_data['property_hs_latest_source'].value_counts().plot(kind='bar', ax=ax[1], color='green')\n",
    "ax[1].set_title('Distribution of Latest Sources')\n",
    "ax[1].set_ylabel('Count')\n",
    "ax[1].grid(axis='y')\n",
    "\n",
    "# Distribution of lead statuses\n",
    "sales_data['property_hs_lead_status'].value_counts().plot(kind='bar', ax=ax[2], color='orange')\n",
    "ax[2].set_title('Distribution of Lead Statuses')\n",
    "ax[2].set_ylabel('Count')\n",
    "ax[2].grid(axis='y')\n",
    "\n",
    "plt.tight_layout()\n",
    "plt.show()"
   ]
  },
  {
   "cell_type": "markdown",
   "id": "74b19363",
   "metadata": {},
   "source": [
    "The visualizations provide us with the following insights:\n",
    "\n",
    "Distribution of Initial Sources:\n",
    "Most leads initially come from the \"OFFLINE\" source, followed by \"EMAIL_MARKETING\" and other sources.\n",
    "Distribution of Latest Sources:\n",
    "\"OFFLINE\" continues to be a dominant source even in the latest interactions with the leads.\n",
    "\"DIRECT_TRAFFIC\" and \"EMAIL_MARKETING\" are also significant contributors.\n",
    "Distribution of Lead Statuses:\n",
    "A significant portion of leads has been converted to \"Customers\".\n",
    "A smaller portion is in the \"Retention\" stage or labeled as \"Qualified\". There's also a section that falls under \"Sales Captured Lead\".\n",
    "Proposed Actions:\n",
    "Focus on Effective Channels:\n",
    "\n",
    "Given that a significant portion of leads and customers come from offline sources, it might be beneficial to understand what offline strategies are currently employed and how they can be optimized further.\n",
    "Email Marketing:\n",
    "\n",
    "Email marketing seems to be an effective strategy for acquiring leads. Consider optimizing email campaigns, segmenting the audience, and personalizing content to enhance conversion rates.\n",
    "Lead Conversion:\n",
    "\n",
    "There's a segment labeled as \"Qualified\" and \"Sales Captured Lead\". It would be essential to have targeted campaigns or strategies to push these leads down the funnel and convert them into customers.\n",
    "Retention Strategies:\n",
    "\n",
    "For those in the \"Retention\" stage, consider loyalty programs, feedback loops, and personalized offers to ensure they remain engaged and continue to make purchases.\n",
    "Next, let's analyze the distribution of lifecycle stages and the total revenue distribution."
   ]
  },
  {
   "cell_type": "code",
   "execution_count": 11,
   "id": "8883d7ec",
   "metadata": {},
   "outputs": [
    {
     "data": {
      "image/png": "[encoded data removed]",
      "text/plain": [
       "<Figure size 1080x864 with 2 Axes>"
      ]
     },
     "metadata": {
      "needs_background": "light"
     },
     "output_type": "display_data"
    }
   ],
   "source": [
    "# Set up the plotting space\n",
    "fig, ax = plt.subplots(2, 1, figsize=(15, 12))\n",
    "\n",
    "# Distribution of lifecycle stages\n",
    "sales_data['property_lifecyclestage'].value_counts().plot(kind='bar', ax=ax[0], color='purple')\n",
    "ax[0].set_title('Distribution of Lifecycle Stages')\n",
    "ax[0].set_ylabel('Count')\n",
    "ax[0].grid(axis='y')\n",
    "\n",
    "# Total revenue distribution\n",
    "sales_data['property_total_revenue'].plot(kind='hist', bins=30, ax=ax[1], color='cyan', edgecolor='black')\n",
    "ax[1].set_title('Distribution of Total Revenue')\n",
    "ax[1].set_xlabel('Revenue')\n",
    "ax[1].set_ylabel('Count')\n",
    "ax[1].grid(axis='y')\n",
    "\n",
    "plt.tight_layout()\n",
    "plt.show()\n",
    "#Here's a deeper dive into the visualizations:"
   ]
  },
  {
   "cell_type": "markdown",
   "id": "1f99d6ad",
   "metadata": {},
   "source": [
    "Distribution of Lifecycle Stages:\n",
    "\n",
    "A vast majority of entries are in the \"customer\" lifecycle stage. This indicates a high conversion rate from leads to customers.\n",
    "A smaller portion is in the \"opportunity\" stage, suggesting these are potential leads that could be converted with the right strategies.\n",
    "Distribution of Total Revenue:\n",
    "\n",
    "The revenue distribution is right-skewed, indicating that a large number of sales generate a smaller amount of revenue, while a few sales generate significantly higher revenue.\n",
    "This could suggest the presence of a few high-value products or deals that contribute significantly to the revenue.\n",
    "Insights & Proposed Actions:\n",
    "Lifecycle Analysis:\n",
    "\n",
    "The high number of customers compared to opportunities suggests effective conversion strategies. However, it's crucial to continue nurturing the \"opportunity\" segment to maintain or improve the conversion rate.\n",
    "Revenue Analysis:\n",
    "\n",
    "Since most sales seem to be clustered in the lower revenue bracket, it might be worthwhile to identify and promote products or services that have a higher profit margin or are more popular among customers.\n",
    "For those sales that generate higher revenue, understanding the customer profile or the product/service involved can offer insights into how to replicate such high-revenue sales.\n",
    "Upselling & Cross-Selling:\n",
    "\n",
    "Given the distribution of revenue, there might be opportunities for upselling or cross-selling to customers in the lower revenue bracket. By offering complementary products or premium versions, there's potential to increase the average transaction value.\n",
    "Overall, the data provides insights into customer acquisition sources, the effectiveness of conversion strategies, and revenue distribution. Continual analysis of such metrics, combined with A/B testing or other optimization strategies, can help refine marketing and sales efforts for better results.\n",
    "\n",
    "\n",
    "\n"
   ]
  },
  {
   "cell_type": "code",
   "execution_count": null,
   "id": "84400537",
   "metadata": {},
   "outputs": [],
   "source": []
  },
  {
   "cell_type": "code",
   "execution_count": null,
   "id": "7565f389",
   "metadata": {},
   "outputs": [],
   "source": []
  }
 ],
 "metadata": {
  "kernelspec": {
   "display_name": "Python 3 (ipykernel)",
   "language": "python",
   "name": "python3"
  },
  "language_info": {
   "codemirror_mode": {
    "name": "ipython",
    "version": 3
   },
   "file_extension": ".py",
   "mimetype": "text/x-python",
   "name": "python",
   "nbconvert_exporter": "python",
   "pygments_lexer": "ipython3",
   "version": "3.9.7"
  }
 },
 "nbformat": 4,
 "nbformat_minor": 5
}
